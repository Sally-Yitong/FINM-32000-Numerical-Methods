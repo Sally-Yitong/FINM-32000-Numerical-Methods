{
  "cells": [
    {
      "cell_type": "code",
      "execution_count": 56,
      "metadata": {
        "id": "Dcd4oWAt46DD"
      },
      "outputs": [],
      "source": [
        "import numpy as np\n",
        "from scipy.stats import norm"
      ]
    },
    {
      "cell_type": "markdown",
      "metadata": {
        "id": "Jeby0NCp46DE"
      },
      "source": [
        "## Problem 1"
      ]
    },
    {
      "cell_type": "markdown",
      "metadata": {},
      "source": [
        "![Problem1](https://github.com/Sally-Yitong/FINM-32000-Numerical-Methods/blob/main/HW6/HW6%20T1%20handwriting.jpg?raw=true)"
      ]
    },
    {
      "cell_type": "code",
      "execution_count": 57,
      "metadata": {
        "id": "9xOrWGQY46DF"
      },
      "outputs": [],
      "source": [
        "class MultiGBM:\n",
        "\n",
        "    def __init__(self,S0,r,correlations,sigma):\n",
        "        self.S0 = S0\n",
        "        self.r = r\n",
        "        self.correlations = correlations\n",
        "        self.sigma = sigma"
      ]
    },
    {
      "cell_type": "code",
      "execution_count": 58,
      "metadata": {},
      "outputs": [],
      "source": [
        "class GBMdynamics:\n",
        "\n",
        "    def __init__(self, S, r, rGrow, sigma=None):\n",
        "        self.S = S # S0\n",
        "        self.r = r # interest rate\n",
        "        self.rGrow = rGrow # R_grow\n",
        "        self.sigma = sigma # instantenous vol\n",
        "\n",
        "    def update_sigma(self, sigma):\n",
        "        self.sigma = sigma\n",
        "        return self"
      ]
    },
    {
      "cell_type": "code",
      "execution_count": 59,
      "metadata": {
        "id": "e0KMdNlr46DF"
      },
      "outputs": [],
      "source": [
        "hw6p1dynamics = MultiGBM(S0=np.array([100,110]),r=0.05,\n",
        "                         correlations = np.array([[1,0.8],[0.8,1]]),\n",
        "                         sigma = np.diag([0.3, 0.2]))"
      ]
    },
    {
      "cell_type": "code",
      "execution_count": 60,
      "metadata": {
        "id": "YuUREwvH46DF"
      },
      "outputs": [],
      "source": [
        "class CallOnBasket:\n",
        "\n",
        "    def __init__(self,K,T,weights):\n",
        "        self.K = K\n",
        "        self.T = T\n",
        "        self.weights = weights"
      ]
    },
    {
      "cell_type": "code",
      "execution_count": 61,
      "metadata": {},
      "outputs": [],
      "source": [
        "class CallOption:\n",
        "\n",
        "    def __init__(self, K, T, price=None):\n",
        "        self.K = K\n",
        "        self.T = T\n",
        "        self.price = price"
      ]
    },
    {
      "cell_type": "code",
      "execution_count": 62,
      "metadata": {
        "id": "52OH89tZ46DF"
      },
      "outputs": [],
      "source": [
        "hw6p1contract=CallOnBasket(K=110,T=1.0,weights = np.array([1/2, 1/2]))"
      ]
    },
    {
      "cell_type": "code",
      "execution_count": 68,
      "metadata": {
        "id": "aRA8B9a046DG"
      },
      "outputs": [],
      "source": [
        "class MCengine:\n",
        "\n",
        "    def __init__(self, M, antithetic, control, seed):\n",
        "        self.M = M                                  # How many simulations\n",
        "        self.antithetic = antithetic\n",
        "        self.control = control\n",
        "        self.rng = np.random.default_rng(seed=seed) # Seeding the random number generator with a specified number helps make the calculations reproducible\n",
        "    \n",
        "    def BSpriceCall(self, dynamics, contract):\n",
        "        # ignores contract.price if given, because this function calculates price based on the dynamics\n",
        "\n",
        "        F = dynamics.S*np.exp(dynamics.rGrow*contract.T)\n",
        "        std = dynamics.sigma*np.sqrt(contract.T)\n",
        "        d1 = np.log(F/contract.K)/std+std/2\n",
        "        d2 = d1-std\n",
        "        call_price = np.exp(-dynamics.r*contract.T)*(F*norm.cdf(d1)-contract.K*norm.cdf(d2))\n",
        "        return call_price\n",
        "    \n",
        "    def price_callonbasket_multiGBM(self,contract,dynamics):\n",
        "\n",
        "        # You complete the coding of this function.\n",
        "        # self.rng.multivariate_normal may be useful.\n",
        "        # See documentation for numpy.random.Generator.multivariate_normal\n",
        "        # as self.rng is an instance of numpy.random.Generator\n",
        "\n",
        "        # You are not required to support the case where MC.control = MC.antithetic = True\n",
        "        # (simultaneous use of control variate and antithetic)\n",
        "        # But you are required to support the other 3 possible settings of MC.antithetic/MC.control\n",
        "        # namely False/False, True/False, False/True.\n",
        "        # (ordinary MC, antithetic without control, control without antithetic)\n",
        "        \n",
        "        S0, r, correlations, sigma = dynamics.S0, dynamics.r, dynamics.correlations, dynamics.sigma\n",
        "        K, T, weights = contract.K, contract.T, contract.weights\n",
        "    \n",
        "        X0 = np.log(S0)\n",
        "        mu = np.array([r,r]) - (1/2)*np.diag((sigma@sigma))\n",
        "        covariances = correlations * T\n",
        "        random_corr_norm = self.rng.multivariate_normal(np.array([0,0]), covariances, size=self.M)\n",
        "        \n",
        "        XT = X0[:, np.newaxis] + (mu*T)[:, np.newaxis] + sigma @ random_corr_norm.T\n",
        "        ST = np.exp(XT)\n",
        "        HT = weights @ ST\n",
        "        payoff = np.maximum(HT-K, 0)\n",
        "        C0 = payoff * np.exp(-r*T)\n",
        "\n",
        "        if self.antithetic:\n",
        "            negative_random_corr_norm = -random_corr_norm\n",
        "            negative_XT = X0[:, np.newaxis] + (mu*T)[:, np.newaxis] + sigma @ negative_random_corr_norm.T\n",
        "            negative_ST = np.exp(negative_XT)\n",
        "            negative_HT = weights @ negative_ST\n",
        "            negative_payoff = np.maximum(negative_HT-K, 0)\n",
        "            negative_C0 = negative_payoff * np.exp(-r*T)\n",
        "            antithetic_C0 = (negative_C0 + C0)/2\n",
        "\n",
        "        if self.control:\n",
        "            log_GT = weights @ XT\n",
        "            GT = np.exp(log_GT)\n",
        "            geometric_payoff = np.maximum(GT-K, 0)\n",
        "            geometric_C0 = geometric_payoff * np.exp(-r*T)\n",
        "\n",
        "            beta_hat = np.cov(geometric_C0, C0)[0,1]/np.cov(geometric_C0, C0)[0,0]\n",
        "            G0 = (S0[0] * S0[1]) ** (1/2)\n",
        "            G_Rgrow = r - (sigma[0,0]**2 - 2*correlations[0,1]*sigma[0,0]*sigma[1,1] + sigma[1,1]**2)/8\n",
        "            G_sigma = np.sqrt(sigma[0,0]**2 + 2*correlations[0,1]*sigma[0,0]*sigma[1,1] + sigma[1,1]**2)/2\n",
        "            G_dynamics = GBMdynamics(G0, r, G_Rgrow, G_sigma)\n",
        "            G_contract = CallOption(K,T)\n",
        "            Cstar = self.BSpriceCall(G_dynamics,G_contract)\n",
        "\n",
        "        if (not self.antithetic) and (not self.control):\n",
        "            call_price = np.mean(C0)\n",
        "            standard_error = np.std(C0, ddof=1)\n",
        "        if self.antithetic == True and (not self.control):\n",
        "            call_price = np.mean(antithetic_C0)\n",
        "            standard_error = np.std(antithetic_C0, ddof=1)\n",
        "        if self.control == True and (not self.antithetic):\n",
        "            call_price = np.mean(C0) + beta_hat * (Cstar - np.mean(geometric_C0))\n",
        "            standard_error = np.std(C0 - beta_hat * geometric_C0) / np.sqrt(self.M)\n",
        "        \n",
        "        return(call_price, standard_error)"
      ]
    },
    {
      "cell_type": "markdown",
      "metadata": {},
      "source": [
        "### (b)"
      ]
    },
    {
      "cell_type": "code",
      "execution_count": 69,
      "metadata": {
        "id": "rmREi1sy46DG"
      },
      "outputs": [
        {
          "name": "stdout",
          "output_type": "stream",
          "text": [
            "9.858103798706601 16.80048813661487\n"
          ]
        }
      ],
      "source": [
        "hw6p1bMC=MCengine(M=10000,antithetic=False,control=False,seed=0)\n",
        "(call_price_ordinary, std_err_ordinary) = hw6p1bMC.price_callonbasket_multiGBM(hw6p1contract,hw6p1dynamics)\n",
        "print(call_price_ordinary, std_err_ordinary)"
      ]
    },
    {
      "cell_type": "markdown",
      "metadata": {},
      "source": [
        "### (c)"
      ]
    },
    {
      "cell_type": "code",
      "execution_count": 70,
      "metadata": {
        "id": "6bLwGWTM46DG"
      },
      "outputs": [
        {
          "name": "stdout",
          "output_type": "stream",
          "text": [
            "9.930408770857396 9.477429058267408\n"
          ]
        }
      ],
      "source": [
        "hw6p1cMC=MCengine(M=10000,antithetic=True,control=False,seed=0)\n",
        "(call_price_AV, std_err_AV) = hw6p1cMC.price_callonbasket_multiGBM(hw6p1contract,hw6p1dynamics)\n",
        "print(call_price_AV, std_err_AV)"
      ]
    },
    {
      "cell_type": "markdown",
      "metadata": {},
      "source": [
        "### (f)"
      ]
    },
    {
      "cell_type": "code",
      "execution_count": 71,
      "metadata": {
        "id": "VBGSqqgY46DG"
      },
      "outputs": [
        {
          "name": "stdout",
          "output_type": "stream",
          "text": [
            "9.993510290823448 0.004473505779267341\n"
          ]
        }
      ],
      "source": [
        "hw6p1fMC=MCengine(M=10000,antithetic=False,control=True,seed=0)\n",
        "(call_price_CV, std_err_CV) = hw6p1fMC.price_callonbasket_multiGBM(hw6p1contract,hw6p1dynamics)\n",
        "print(call_price_CV, std_err_CV)"
      ]
    },
    {
      "cell_type": "markdown",
      "metadata": {
        "id": "qGknbqw346DG"
      },
      "source": [
        "## Problem 2"
      ]
    },
    {
      "cell_type": "code",
      "execution_count": 72,
      "metadata": {
        "id": "7Ij9oOIK46DH"
      },
      "outputs": [],
      "source": [
        "class GBM:\n",
        "\n",
        "    def __init__(self,sigma,r,S0):\n",
        "        self.sigma = sigma\n",
        "        self.r = r\n",
        "        self.S0 = S0"
      ]
    },
    {
      "cell_type": "code",
      "execution_count": 73,
      "metadata": {
        "id": "sJlC7Oer46DH"
      },
      "outputs": [],
      "source": [
        "hw6p2dynamics=GBM(sigma=0.2,r=0.02,S0=100)"
      ]
    },
    {
      "cell_type": "code",
      "execution_count": 74,
      "metadata": {
        "id": "YwUReruu46DH"
      },
      "outputs": [],
      "source": [
        "class CallOption:\n",
        "\n",
        "    def __init__(self,K,T):\n",
        "        self.K=K\n",
        "        self.T=T"
      ]
    },
    {
      "cell_type": "code",
      "execution_count": 75,
      "metadata": {
        "id": "s-s2e_F246DH"
      },
      "outputs": [],
      "source": [
        "hw6p2contract=CallOption(K=150,T=1)"
      ]
    },
    {
      "cell_type": "code",
      "execution_count": 76,
      "metadata": {
        "id": "XkV2FaBs46DH"
      },
      "outputs": [],
      "source": [
        "class MCimportanceEngine:\n",
        "\n",
        "    def __init__(self, M, lamb, seed):\n",
        "        self.M = M                                  # How many simulations\n",
        "        self.lamb = lamb                            # drift adjustment\n",
        "        self.rng = np.random.default_rng(seed=seed) # Seeding the random number generator with a specified number helps make the calculations reproducible\n",
        "\n",
        "    def price_call_GBM(self, contract,dynamics):\n",
        "\n",
        "        # You complete the coding of this function.\n",
        "        # self.rng.normal may be useful.\n",
        "        # See documentation for numpy.random.Generator.normal\n",
        "        # as self.rng is an instance of numpy.random.Generator\n",
        "\n",
        "        W1 = self.rng.normal(0, 1, self.M) \n",
        "        XT = np.log(dynamics.S0) + (dynamics.r-dynamics.sigma**2/2)*contract.T + dynamics.sigma*np.sqrt(contract.T)*(W1 + self.lamb * contract.T)\n",
        "        ST = np.exp(XT)\n",
        "        YT = np.exp(-dynamics.r*contract.T - self.lamb*W1*np.sqrt(contract.T) - 0.5*contract.T* self.lamb**2) * np.maximum(ST-contract.K, 0)\n",
        "        \n",
        "        call_price = np.mean(YT)\n",
        "        standard_error = np.std(YT, ddof=1) / np.sqrt(self.M)\n",
        "\n",
        "        return(call_price, standard_error)\n"
      ]
    },
    {
      "cell_type": "markdown",
      "metadata": {},
      "source": [
        "### (a)"
      ]
    },
    {
      "cell_type": "code",
      "execution_count": 77,
      "metadata": {
        "id": "WccmST9O46DH"
      },
      "outputs": [
        {
          "name": "stdout",
          "output_type": "stream",
          "text": [
            "0.25270332833609405 0.007609293292996182\n"
          ]
        }
      ],
      "source": [
        "hw6p2aMC=MCimportanceEngine(M=100000,lamb=0,seed=0) #zero drift adjustment gives ordinary MC\n",
        "\n",
        "(call_price_ordinary, std_err_ordinary) =  hw6p2aMC.price_call_GBM(hw6p2contract,hw6p2dynamics)\n",
        "print(call_price_ordinary, std_err_ordinary)"
      ]
    },
    {
      "cell_type": "markdown",
      "metadata": {},
      "source": [
        "### (b)\n",
        "![T2](https://github.com/Sally-Yitong/FINM-32000-Numerical-Methods/blob/main/HW6/HW6%20T2.jpg?raw=true)"
      ]
    },
    {
      "cell_type": "code",
      "execution_count": 81,
      "metadata": {},
      "outputs": [
        {
          "name": "stdout",
          "output_type": "stream",
          "text": [
            "2.4038764395624455\n"
          ]
        }
      ],
      "source": [
        "ES_T = 165\n",
        "S_0 = hw6p2dynamics.S0\n",
        "r = hw6p2dynamics.r\n",
        "sigma = hw6p2dynamics.sigma\n",
        "T = hw6p2contract.T\n",
        "\n",
        "lamb= (np.log(ES_T/S_0)/T - r) / sigma\n",
        "print(lamb)"
      ]
    },
    {
      "cell_type": "markdown",
      "metadata": {},
      "source": [
        "### (c)"
      ]
    },
    {
      "cell_type": "code",
      "execution_count": 79,
      "metadata": {
        "id": "wjwZIDnU46DH"
      },
      "outputs": [
        {
          "name": "stdout",
          "output_type": "stream",
          "text": [
            "0.24843662621391502 0.0007734271968138013\n"
          ]
        }
      ],
      "source": [
        "hw6p2cMC=MCimportanceEngine(M=100000,lamb=lamb,seed=0) # Fill in the lamb parameter with the lambda that you compute in (b)\n",
        "(call_price_importsamp, std_err_importsamp) =  hw6p2cMC.price_call_GBM(hw6p2contract,hw6p2dynamics)\n",
        "print(call_price_importsamp, std_err_importsamp)"
      ]
    },
    {
      "cell_type": "code",
      "execution_count": null,
      "metadata": {},
      "outputs": [],
      "source": []
    }
  ],
  "metadata": {
    "anaconda-cloud": {},
    "colab": {
      "provenance": []
    },
    "kernelspec": {
      "display_name": "Python 3",
      "language": "python",
      "name": "python3"
    },
    "language_info": {
      "codemirror_mode": {
        "name": "ipython",
        "version": 3
      },
      "file_extension": ".py",
      "mimetype": "text/x-python",
      "name": "python",
      "nbconvert_exporter": "python",
      "pygments_lexer": "ipython3",
      "version": "3.12.0"
    },
    "toc": {
      "base_numbering": 1,
      "nav_menu": {},
      "number_sections": true,
      "sideBar": true,
      "skip_h1_title": false,
      "title_cell": "Table of Contents",
      "title_sidebar": "Contents",
      "toc_cell": false,
      "toc_position": {},
      "toc_section_display": true,
      "toc_window_display": false
    }
  },
  "nbformat": 4,
  "nbformat_minor": 0
}

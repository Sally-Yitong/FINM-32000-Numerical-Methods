{
  "cells": [
    {
      "cell_type": "markdown",
      "metadata": {},
      "source": [
        "# FINM 32000 Numerical Methods HW3\n",
        "\n",
        "---- Yitong Wang"
      ]
    },
    {
      "cell_type": "code",
      "execution_count": 2,
      "metadata": {},
      "outputs": [],
      "source": [
        "import numpy as np"
      ]
    },
    {
      "cell_type": "markdown",
      "metadata": {},
      "source": [
        "## Problem 1"
      ]
    },
    {
      "cell_type": "markdown",
      "metadata": {},
      "source": [
        "- Consider a portfolio long one $(K,T_2)$-forward contract and short one $(F_t,T2)$-forward contract, note that:\n",
        "    - $(F_t,T2)$-forward contract has time-t value 0 ('fair price', settled exactly at time $t$)\n",
        "\n",
        "    - $(K,T_2)$-forward contract has time-t value $f_t$ ($K$ can be settled in the past)\n",
        "\n",
        "    - at time $t$, the portfolio has value $1 \\cdot f_t - 1 \\cdot 0 = f_t$ \n",
        "\n",
        "    - at time $T_2$, the portfolio pays $1 \\cdot (S_{T_2} - K) - 1 \\cdot (S_{T_2} - F_t) = F_t - K$\n",
        "\n",
        "    - thus, $f_t = (F_t - K) \\cdot e^{-r(T_2-t)}$\n",
        "\n",
        "- $f_t = (F_t - K) \\cdot e^{-r(T_2-t)}$ is the time-t value of the $(K,T_2)$-forward contract (which is written before t, while the contract written at time has delivery price exactly to be $F_t$), note that with $t$ changing, $F_t$ changes. Thus, once written, the value of a forward contract changes to market.\n",
        "\n",
        "- We can derive $F_t$ if the underlying dynamics is specified:\n",
        "    - the time-t value of $(F_t,T2)$-forward contract should be $e^{-r(T_2-t)}\\mathbb{E}_t(S_{T_2}-F_t)$, and should be 0 (where $\\textcolor{red}{\\mathbb{E}}$ denotes for $\\textcolor{red}{\\text{risk-neutral}}$)\n",
        "\n",
        "    - $e^{-r(T_2-t)}\\mathbb{E}_t(S_{T_2}-F_t)=0 \\Rightarrow F_t = \\mathbb{E}_t(S_{T_2})$ \n",
        "\n",
        "    - note that $F_t$ is a martingale with final level $F_{T_2} = S_{T_2}$ (at the delivery date $T_2$, the forward price must equal to the underlying asset price)\n",
        "    \n",
        "    - if underlying $S$ is a non-dividend stock: $F_t = S_t \\cdot e^{r(T_2-t)}$. This can be derived using non-abritrage pricing. If, say, $F_t> S_t \\cdot e^{r(T_2-t)}$, then arbitrage would exist:\n",
        "        - At time $t$, borrow $S_t$ dollars, buy the stock, and short the forward (with delivery price $F_t$ and time-t value 0)\n",
        "        - At time $T_2$, deliver the stock, and receive $F_t$, which is more than enough to cover your accumulated debt of $S_t \\cdot e^{r(T_2-t)}$ dollars\n",
        "    \n",
        "    - However, if $S$ is the spot price of a barrel of crude oil (so, for all $t$, the time-t price for time-t delivery is $S_t$ per barrel), then this argument fails. This is because in this situation, we can not use the above statement of \"At time $T_2$, deliver the curde oil, and receive $F_t$, which is ~~more than enough~~ to cover your accumulated debt of $S_t \\cdot e^{r(T_2-t)}$ dollars\". Since now the accumulated debt is no longer $S_t \\cdot e^{r(T_2-t)}$ dollars due to the <font color='skyblue'> storage costs </font> incurred by curde oil.\n",
        "\n",
        "    - Thus, for crude oil, we need more assumptions to relate $F_t$ and $S_t$. The $S$ denotes spot crude oil, and $F_t$ denotes the time-t forward price for T2-delivery crude oil). One approach is to model the risk-neutral dynamics of $S$. Assume that $S$ satisfies (Where $W$ is BM under risk-neutral measure):\n",
        "    $$ S_t = exp(X_t) $$\n",
        "    $$ dX_t = \\kappa (\\alpha -X_t) dt + \\sigma dW_t $$\n",
        "    \n",
        "    $$ \\Rightarrow F_t= \\mathbb{E}_t(S_{T_2}) =  \\exp \\left[ e^{-\\kappa (T_2 - t)} \\log S_t + (1 - e^{-\\kappa (T_2 - t)}) \\alpha + \\frac{\\sigma^2}{4 \\kappa} (1 - e^{-2 \\kappa (T_2 - t)}) \\right] $$\n",
        "    \n",
        "\n"
      ]
    },
    {
      "cell_type": "markdown",
      "metadata": {},
      "source": [
        "#### (a) \n",
        "$f_t = (F_t - K) \\cdot e^{-r(T_2-t)}$\n",
        "#### (b)\n",
        "we can not use the above statement of \"At time $T_2$, deliver the curde oil, and receive $F_t$, which is ~~more than enough~~ to cover your accumulated debt of $S_t \\cdot e^{r(T_2-t)}$ dollars\". Since now the accumulated debt is no longer $S_t \\cdot e^{r(T_2-t)}$ dollars due to the <font color='skyblue'> storage costs and transaction costs</font> incurred by curde oil."
      ]
    },
    {
      "cell_type": "markdown",
      "metadata": {},
      "source": [
        "#### (c) & (d)\n",
        "- Suppose $\\kappa= 0.472, \\alpha= 4.4, \\sigma= 0.368, r= 0.05, S_0= 106.9$.\n",
        "\n",
        "- Let $C$ be the  time-0 price of a $K$-strike $T_1$-expiry European call on $F$.   \n",
        "\n",
        "- So this  call  pays $(F_{T_1}−K)^+$. Let the call option have strike $K= 103.2$ and expiration $T_1= 0.5$. Let the forward have delivery date $T_2= 0.75$.  \n",
        "\n",
        "$$ \\because F_t= \\mathbb{E}_t(S_{T_2}) =  \\exp \\left[ e^{-\\kappa (T_2 - t)} \\log S_t + (1 - e^{-\\kappa (T_2 - t)}) \\alpha + \\frac{\\sigma^2}{4 \\kappa} (1 - e^{-2 \\kappa (T_2 - t)}) \\right] $$\n",
        "\n",
        "$$ \\therefore F_{T_1} = \\mathbb{E}_{T_1}(S_{T_2}) =  \\exp \\left[ e^{-\\kappa (T_2 - T_1)} \\log S_{T_1} + (1 - e^{-\\kappa (T_2 - T_1)}) \\alpha + \\frac{\\sigma^2}{4 \\kappa} (1 - e^{-2 \\kappa (T_2 - T_1)}) \\right] $$\n",
        "\n",
        "- Thus need to simulate $S_t$ to derive $S_{T_1}$ to derive $F_{T_1}$ to derive $(F_{T_1}−K)^+$"
      ]
    },
    {
      "cell_type": "code",
      "execution_count": 40,
      "metadata": {
        "id": "Ft75a8kKBvnI"
      },
      "outputs": [],
      "source": [
        "# Exponential Ornstein-Uhlenbeck process\n",
        "\n",
        "class XOU:\n",
        "\n",
        "    def __init__(self, kappa, alpha, sigma, S0, r):\n",
        "\n",
        "        self.kappa = kappa\n",
        "        self.alpha = alpha\n",
        "        self.sigma = sigma\n",
        "        self.S0 = S0\n",
        "        self.r = r\n",
        "    "
      ]
    },
    {
      "cell_type": "code",
      "execution_count": 41,
      "metadata": {
        "id": "5LmdWqdCBvnK"
      },
      "outputs": [],
      "source": [
        "class CallOnForwardPrice:\n",
        "\n",
        "    def __init__(self, K1, T1, T2):\n",
        "\n",
        "        self.K1 = K1\n",
        "        self.T1 = T1\n",
        "        self.T2 = T2\n"
      ]
    },
    {
      "cell_type": "code",
      "execution_count": 42,
      "metadata": {
        "id": "edbQw63pBvnK"
      },
      "outputs": [],
      "source": [
        "class MCengine:\n",
        "\n",
        "    def __init__(self, N, M, epsilon, seed):\n",
        "\n",
        "        self.N = N   # Number of timesteps on each path\n",
        "        self.M = M   # Number of paths\n",
        "        self.epsilon = epsilon  # For the dC/dS calculation\n",
        "        self.rng = np.random.default_rng(seed=seed) # Seeding the random number generator with a specified number helps make the calculations reproducible\n",
        "\n",
        "    def price_call_XOU(self, contract, dynamics):\n",
        "\n",
        "        alpha = dynamics.alpha\n",
        "        kappa = dynamics.kappa\n",
        "        sigma = dynamics.sigma\n",
        "        S0 = dynamics.S0\n",
        "        r = dynamics.r\n",
        "\n",
        "        K1 = contract.K1\n",
        "        T2 = contract.T2\n",
        "        T1 = contract.T1\n",
        "        dt = T1/self.N\n",
        "\n",
        "        S_lst = []\n",
        "        S_up_lst = []\n",
        "        for m in range(self.M): # generate S_{T1} for M times\n",
        "            Xt = np.log(S0) # S0 = exp(X0) thus X0 = ln(S0)\n",
        "            Xt_up = np.log(S0+self.epsilon)\n",
        "            for n in range(self.N): # N times to derive for S_{T1}\n",
        "                random_norm = self.rng.normal() # self.rng.normal() generates pseudo-random normals\n",
        "                dX = kappa*(alpha-Xt)*dt + sigma*random_norm*np.sqrt(dt) # don't forget np.sqrt(dt)!\n",
        "                Xt += dX\n",
        "                dX_up = kappa*(alpha-Xt_up)*dt + sigma*random_norm*np.sqrt(dt)\n",
        "                Xt_up += dX_up\n",
        "            S = np.exp(Xt)\n",
        "            S_up = np.exp(Xt_up)\n",
        "            S_lst.append(S)\n",
        "            S_up_lst.append(S_up)\n",
        "        \n",
        "        def StoF(S, kappa, alpha, sigma, T1, T2):\n",
        "            F = np.exp( np.exp(-kappa*(T2-T1)) * np.log(S) + (1 - np.exp(-kappa*(T2-T1)))*alpha + sigma**2/(4*kappa)*(1-np.exp(-2*kappa*(T2-T1))) )\n",
        "            return F\n",
        "\n",
        "        payoff_lst = [max(StoF(S, kappa, alpha, sigma, T1, T2)-K1, 0) for S in S_lst] # list size = M\n",
        "        payoff_up_lst = [max(StoF(S_up, kappa, alpha, sigma, T1, T2)-K1, 0) for S_up in S_up_lst]\n",
        "        \n",
        "        payoff_array = np.array(payoff_lst)\n",
        "        payoff_up_array = np.array(payoff_up_lst)\n",
        "\n",
        "        call_price = np.exp(-r*(T1)) * np.mean(payoff_array)\n",
        "        call_price_up = np.exp(-r*(T1)) * np.mean(payoff_up_array)\n",
        "        \n",
        "        std_sample = np.std(payoff_array, ddof=1)\n",
        "        standard_error = std_sample/np.sqrt(self.M)\n",
        "        \n",
        "        call_delta = (call_price_up-call_price)/self.epsilon\n",
        "\n",
        "        return(call_price, standard_error, call_delta)\n"
      ]
    },
    {
      "cell_type": "code",
      "execution_count": 37,
      "metadata": {},
      "outputs": [
        {
          "name": "stdout",
          "output_type": "stream",
          "text": [
            "call price:7.7323; standard error: 0.0432; call delta: 0.3396\n"
          ]
        }
      ],
      "source": [
        "hw5dynamics=XOU(kappa = 0.472, alpha = 4.4, sigma = 0.368, S0 = 106.9, r = 0.05)\n",
        "\n",
        "hw5contract=CallOnForwardPrice(K1 = 103.2, T1 = 0.5, T2 = 0.75)\n",
        "\n",
        "hw5MC = MCengine(N=100, M=100000, epsilon=0.01, seed=0)\n",
        "# Change M if necessary\n",
        "\n",
        "(call_price, standard_error, call_delta) = hw5MC.price_call_XOU(hw5contract,hw5dynamics)\n",
        "\n",
        "print(f\"call price:{round(call_price, 4)}; standard error: {round(standard_error, 4)}; call delta: {round(call_delta, 4)}\")"
      ]
    },
    {
      "cell_type": "markdown",
      "metadata": {},
      "source": [
        "#### (e)\n",
        "$$\\because f_t = (F_t - K) \\cdot e^{-r(T_2-t)}$$\n",
        "\n",
        "$$\\therefore \\frac{df_t}{dS} = \\frac{dF_t}{dS} \\cdot e^{-r(T_2-t)}$$\n",
        "\n",
        "$$\\because F_t= \\mathbb{E}_t(S_{T_2}) =  \\exp \\left[ e^{-\\kappa (T_2 - t)} \\log S_t + (1 - e^{-\\kappa (T_2 - t)}) \\alpha + \\frac{\\sigma^2}{4 \\kappa} (1 - e^{-2 \\kappa (T_2 - t)}) \\right] $$\n",
        "\n",
        "$$\\therefore \\frac{dF_t}{dS} =  F_t \\frac{e^{-\\kappa (T_2 - t)}}{S_t} $$\n",
        "\n",
        "$$\\therefore \\frac{df_t}{dS} = \\frac{dF_t}{dS} \\cdot e^{-r(T_2-t)} =  \\frac{F_t}{S_t} \\cdot e^{-(r+\\kappa)(T_2-t)}$$\n",
        "\n",
        "$$\\therefore \\frac{df_0}{dS} = \\frac{df_t}{dS}\\bigg|_{t=0} =  \\frac{F_t}{S_t} \\cdot e^{-(r+\\kappa)(T_2-t)} \\bigg|_{t=0} = \\frac{F_0}{S_0} \\cdot e^{-(r+\\kappa)T_2}$$\n",
        "\n",
        "- plug $F_0$ into the above formula:\n",
        "\n",
        "$$ \\because F_t= \\mathbb{E}_t(S_{T_2}) =  \\exp \\left[ e^{-\\kappa (T_2 - t)} \\log S_t + (1 - e^{-\\kappa (T_2 - t)}) \\alpha + \\frac{\\sigma^2}{4 \\kappa} (1 - e^{-2 \\kappa (T_2 - t)}) \\right] $$\n",
        "\n",
        "$$ \\therefore F_0= \\exp \\left[ e^{-\\kappa T_2} \\log S_0 + (1 - e^{-\\kappa T_2 }) \\alpha + \\frac{\\sigma^2}{4 \\kappa} (1 - e^{-2 \\kappa T_2}) \\right] $$\n",
        "\n"
      ]
    },
    {
      "cell_type": "code",
      "execution_count": 43,
      "metadata": {},
      "outputs": [],
      "source": [
        "def calc_forward_delta_XOU(dynamics, contract):\n",
        "    alpha, kappa, sigma, S0, r  = dynamics.alpha, dynamics.kappa, dynamics.sigma, dynamics.S0, dynamics.r\n",
        "\n",
        "    T2 = contract.T2\n",
        "\n",
        "    F0 = np.exp( np.exp(-kappa*T2)*np.log(S0) + (1- np.exp(-kappa*T2))*alpha + sigma**2/(4*kappa)*(1-np.exp(-2*kappa*T2)))\n",
        "    forward_delta = F0/S0 * np.exp(-(r+kappa)*T2)\n",
        "\n",
        "    return forward_delta\n",
        "    "
      ]
    },
    {
      "cell_type": "code",
      "execution_count": 44,
      "metadata": {},
      "outputs": [
        {
          "name": "stdout",
          "output_type": "stream",
          "text": [
            "forward delta at t0: 0.6465\n"
          ]
        }
      ],
      "source": [
        "print(f\"forward delta at t0: {round(calc_forward_delta_XOU(hw5dynamics, hw5contract),4)}\")"
      ]
    },
    {
      "cell_type": "markdown",
      "metadata": {},
      "source": [
        "#### <span style = \"background-color: yellow\">(f)</span>\n",
        "- Suppose you want to hedge a position short one call (so your hedge portfolio should replicate aposition long one call), by continuously rebalancing a position in $T_2$-delivery forward contracts. \n",
        "\n",
        "- Thus, your hedge portfolio at time 0 should be long the call's time-0 delta ($C$ to $f$) shares of forward contracts.\n",
        "\n",
        "$$ \\frac{\\partial{C}}{\\partial{f}} = \\frac{\\partial{C}}{\\partial{S}} \\div \\frac{df}{dS} $$\n"
      ]
    },
    {
      "cell_type": "code",
      "execution_count": 32,
      "metadata": {},
      "outputs": [],
      "source": [
        "def calc_calltoforward_delta_XOU(call_delta, dynamics, contract):\n",
        "    return call_delta / calc_forward_delta_XOU(dynamics, contract)"
      ]
    },
    {
      "cell_type": "code",
      "execution_count": 33,
      "metadata": {},
      "outputs": [
        {
          "name": "stdout",
          "output_type": "stream",
          "text": [
            "shares of contract to hedging: 0.5253\n"
          ]
        }
      ],
      "source": [
        "print(f'shares of contract to hedging: {round(calc_calltoforward_delta_XOU(call_delta, hw5dynamics, hw5contract),4)}')"
      ]
    },
    {
      "cell_type": "markdown",
      "metadata": {},
      "source": [
        "#### <span style = \"background-color: yellow\">(g)</span>\n",
        "The time-$T_2$ value of the portfolio is:\n",
        "$$\n",
        "V_{T_2} = \\theta (F_{T_2} - K) + (\\theta_{\\text{max}} - \\theta) (S_{T_1} - K)\\\\\n",
        " = \\theta f_{T_2} + (\\theta_{\\text{max}} - \\theta) C_{T_1}\n",
        "$$\n",
        "\n",
        "So the time-0 value of our contract is the expectation of the replication at time-0.\n",
        "$$\n",
        "V_0 = E_0[V_{T_2}] = \\theta f_0 + (\\theta_{\\text{max}} - \\theta) C_0 e^{-r(T_2-T_1)}\\\\\n",
        "f_0 = (F_0 - K) e^{-rT_2}\n",
        "$$\n",
        "\n",
        "Therefore, we long 4,000 forward contracts and long 1,000 call options."
      ]
    },
    {
      "cell_type": "code",
      "execution_count": 47,
      "metadata": {},
      "outputs": [
        {
          "name": "stdout",
          "output_type": "stream",
          "text": [
            "purchase_agreement_contract value:  3996.4233731151935\n"
          ]
        }
      ],
      "source": [
        "F_0 = np.exp(np.exp(-hw5dynamics.kappa*(hw5contract.T2))*np.log(hw5dynamics.S0)+hw5dynamics.alpha*(1-np.exp(-hw5dynamics.kappa*(hw5contract.T2)))+hw5dynamics.sigma**2/(4*hw5dynamics.kappa)*(1-np.exp(-2*hw5dynamics.kappa*(hw5contract.T2))))\n",
        "f_0 = np.exp(-hw5dynamics.r*(hw5contract.T2)) * (F_0-hw5contract.K1)\n",
        "\n",
        "print('purchase_agreement_contract value: ', 4000*f_0+1000*call_price)\n"
      ]
    },
    {
      "cell_type": "markdown",
      "metadata": {},
      "source": [
        "### Problem 2"
      ]
    },
    {
      "cell_type": "markdown",
      "metadata": {},
      "source": [
        "#### (a)\n",
        "$$ dS_t = rS_tdt + \\sigma (t) S_t dW_t $$\n",
        "\n",
        "- The dynamics is capable of generating a non-constant (with respect to T) term-structure of implied volatility, since $\\sigma (t)$ is changing when $t$ changes.\n",
        "- The dynamics is not capable of generating an implied volatility skew (non-constant with respect to $K$), since $\\sigma (t)$ is not changing when $S_t$ changes.\n",
        "\n",
        "- Specifically, if $\\sigma$ is a non-random function of t and $$ dS_t = rS_tdt + \\sigma (t) S_t dW_t $$ then: $$ d logS_t = (r-\\frac{1}{2}\\sigma^2(t))dt + \\sigma(t) dWt $$\n",
        "so: $$ log S_t = log S_0 + \\int_{0}^{T} (r-\\frac{1}{2}\\sigma^2(t))dt + \\int_{0}^{T} \\sigma(t) dW_t $$\n",
        "where $ \\int_{0}^{T} (r-\\frac{1}{2}\\sigma^2(t))dt$ is a normal integral and $ \\int_{0}^{T} \\sigma(t) dW_t$ is a Ito integral with the function inside to be a non-random function\n",
        "\n",
        "- remember that for that kind of Ito integral, we have: $$\\int_{0}^{T} \\sigma(t) dW_t \\sim N(0, \\int_{0}^{T} \\sigma^2(t) dt)$$\n",
        "\n",
        "- Thus:\n",
        "$$ log S_t = log S_0 + \\int_{0}^{T} (r-\\frac{1}{2}\\sigma^2(t))dt \\int_{0}^{T} + \\sigma(t) dW_t = logS_0 + (r- \\frac{\\bar{ \\sigma }_T^2}{2})T + \\int_{0}^{T} \\sigma(T) dW_t \\\\ \\sim N(logS_0 + (r- \\frac{\\bar{\\sigma}_T^2}{2})T, \\bar{\\sigma}_T^2 T) $$ \n",
        "- where: $$\\bar{\\sigma}_T = \\sqrt{\\frac{1}{T} \\int_{0}^{T} \\sigma^2(t) dt} $$\n",
        "\n",
        "- Thus: $\\sigma_{imp}(K,T) = \\bar{\\sigma}_T$\n",
        "\n",
        "- Note that in this case $\\sigma_{imp}(K,T) = \\bar{\\sigma}_T $ will change when $T$ changes, but will not change when $K$ changes. "
      ]
    },
    {
      "cell_type": "markdown",
      "metadata": {},
      "source": [
        "#### (b)"
      ]
    },
    {
      "cell_type": "markdown",
      "metadata": {},
      "source": [
        "$$\\sigma_{imp}(K,T) = \\bar{\\sigma}_T = \\sqrt{\\frac{1}{T} \\int_{0}^{T} \\sigma^2(t) dt}$$\n",
        "\n",
        "$$\\Rightarrow \\sigma_{imp}^2 \\cdot T =  \\int_{0}^{T} \\sigma^2(t) dt$$\n",
        "\n",
        "\n",
        "- Thus, A time-varying local volatility function can be constructed as:\n",
        "$$\n",
        "\\sigma^2(t) = \\begin{cases} \n",
        "\\sigma_{1, imp}^2 & \\text{if } 0 \\leq t \\leq t_1 \\\\\n",
        "\\frac{\\sigma_{2, imp}^2 t_2 - \\sigma_{1, imp}^2 t_1}{t_2-t_1} & \\text{if } t_1 < t \\leq t_2 \\\\\n",
        "\\frac{\\sigma_{3, imp}^2 t_3 - \\sigma_{2, imp}^2 t_2}{t_3-t_2} & \\text{if } t_2 < t \\leq t_3\n",
        "\\end{cases}\n",
        "$$"
      ]
    },
    {
      "cell_type": "code",
      "execution_count": 54,
      "metadata": {},
      "outputs": [],
      "source": [
        "import numpy as np\n",
        "from scipy.stats import norm\n",
        "from scipy.optimize import bisect, brentq\n",
        "from copy import copy"
      ]
    },
    {
      "cell_type": "code",
      "execution_count": 49,
      "metadata": {},
      "outputs": [],
      "source": [
        "class CallOption:\n",
        "\n",
        "    def __init__(self, K, T, price=None):\n",
        "        self.K = K\n",
        "        self.T = T\n",
        "        self.price = price"
      ]
    },
    {
      "cell_type": "code",
      "execution_count": 51,
      "metadata": {},
      "outputs": [],
      "source": [
        "class GBMdynamics:\n",
        "\n",
        "    def __init__(self, S, r, rGrow, sigma=None):\n",
        "        self.S = S # S0\n",
        "        self.r = r # interest rate\n",
        "        self.rGrow = rGrow # R_grow\n",
        "        self.sigma = sigma # instantenous vol\n",
        "\n",
        "    def update_sigma(self, sigma):\n",
        "        self.sigma = sigma\n",
        "        return self"
      ]
    },
    {
      "cell_type": "code",
      "execution_count": 48,
      "metadata": {},
      "outputs": [],
      "source": [
        "class AnalyticEngine:\n",
        "\n",
        "    def __init__(self):\n",
        "        pass\n",
        "\n",
        "    def BSpriceCall(self, dynamics, contract):\n",
        "        # ignores contract.price if given, because this function calculates price based on the dynamics\n",
        "\n",
        "        F = dynamics.S*np.exp(dynamics.rGrow*contract.T)\n",
        "        std = dynamics.sigma*np.sqrt(contract.T)\n",
        "        d1 = np.log(F/contract.K)/std+std/2\n",
        "        d2 = d1-std\n",
        "        call_price = np.exp(-dynamics.r*contract.T)*(F*norm.cdf(d1)-contract.K*norm.cdf(d2))\n",
        "        return call_price\n",
        "    \n",
        "    def BSpricePut(self, dynamics, contract):\n",
        "        F = dynamics.S*np.exp(dynamics.rGrow*contract.T)\n",
        "        std = dynamics.sigma*np.sqrt(contract.T)\n",
        "        d1 = np.log(F/contract.K)/std+std/2\n",
        "        d2 = d1-std\n",
        "        # call_price =  np.exp(-dynamics.r*contract.T)*(F*norm.cdf(d1)-contract.K*norm.cdf(d2))\n",
        "        # put_price = call_price - np.exp(-dynamics.r*contract.T)*(F-contract.K)\n",
        "        put_price = np.exp(-dynamics.r*contract.T)*(contract.K*norm.cdf(-d2)-F*norm.cdf(-d1))\n",
        "        return put_price\n",
        "\n",
        "    def IV(self, dynamics, contract):\n",
        "        # ignores dynamics.sigma, because this function solves for sigma.\n",
        "\n",
        "        if contract.price is None:\n",
        "            raise ValueError('Contract price must be given')\n",
        "\n",
        "        # non-arbitrage condition\n",
        "        df = np.exp(-dynamics.r*contract.T)  # discount factor\n",
        "        F = dynamics.S / df\n",
        "        lowerbound = np.max([0,(F-contract.K)*df])\n",
        "        C = contract.price\n",
        "        if C<lowerbound:\n",
        "            return np.nan\n",
        "        if C==lowerbound: # if C=upperbound=S=F*df, then implied vol is infinity\n",
        "            return 0\n",
        "        if C>=F*df:\n",
        "            return np.nan\n",
        "\n",
        "        dytry = copy(dynamics)\n",
        "        # We \"try\" values of sigma until we find sigma that generates price C\n",
        "\n",
        "        # First find lower and upper bounds\n",
        "        sigma_try = 0.2\n",
        "        while self.BSpriceCall(dytry.update_sigma(sigma_try),contract)>C:\n",
        "            sigma_try /= 2\n",
        "        while self.BSpriceCall(dytry.update_sigma(sigma_try),contract)<C:\n",
        "            sigma_try *= 2\n",
        "        hi = sigma_try\n",
        "        lo = hi/2\n",
        "        # We have calculated \"lo\" and \"hi\" which bound the implied volatility from below and above.\n",
        "        # In other words, the implied volatility is somewhere in the interval [lo,hi].\n",
        "        # Then, to calculate the implied volatility within that interval,\n",
        "        # for purposes of this homework, you may either (A) write your own bisection algorithm,\n",
        "        # or (B) use scipy.optimize.bisect or (C) use scipy.optimize.brentq\n",
        "        # You will need to provide lo and hi to those solvers.\n",
        "        # There are other solvers that do not require you to bound the solution\n",
        "        # from below and above (for instance, scipy.optimize.fsolve is a useful solver).\n",
        "        # However, if you are able to bound the solution (of a single-variable problem),\n",
        "        # then bisection or Brent will be more reliable.\n",
        "\n",
        "        price_diff = lambda sigma: self.BSpriceCall(dytry.update_sigma(sigma), contract) - C # the function that plug into the bisection algorithm\n",
        "\n",
        "        # (A) write your own bisection algorithm\n",
        "        def my_bisection_method(f, left, right, tol=1e-5, max_iter=100000):\n",
        "            if f(left) * f(right) >= 0:\n",
        "                raise ValueError(\"f(a) and f(b) must have opposite signs\")\n",
        "            \n",
        "            iter_count = 0\n",
        "            while (right - left) / 2 > tol:\n",
        "                iter_count += 1\n",
        "\n",
        "                mid = (left + right) / 2\n",
        "                if f(mid) == 0 or (right - left) / 2 < tol:\n",
        "                    # print(f\"Root found after {iter_count} iterations: {c}\")\n",
        "                    return mid\n",
        "                elif f(left) * f(mid) < 0:\n",
        "                    right = mid\n",
        "                else:\n",
        "                    left = mid\n",
        "\n",
        "                if iter_count >= max_iter:\n",
        "                    # print(f\"Maximum iterations reached. Approximate root: {c}\")\n",
        "                    return mid\n",
        "                \n",
        "            # print(f\"Root found after {iter_count} iterations: {(left + right) / 2}\")\n",
        "            return (left + right) / 2\n",
        "\n",
        "        impliedVolatility = my_bisection_method(price_diff, lo, hi)\n",
        "\n",
        "        # (B) use scipy.optimize.bisect\n",
        "        # impliedVolatility = bisect(price_diff, lo, hi)\n",
        "        \n",
        "        # (C) use scipy.optimize.brentq\n",
        "        # impliedVolatility = brentq(price_diff, lo, hi)\n",
        "        \n",
        "        return impliedVolatility\n"
      ]
    },
    {
      "cell_type": "code",
      "execution_count": 52,
      "metadata": {},
      "outputs": [],
      "source": [
        "call1 = CallOption(100, 0.1, 5.25)\n",
        "call2 = CallOption(100, 0.2, 7.25)\n",
        "call3 = CallOption(100, 0.5, 9.5)\n",
        "\n",
        "gbm_dynamics = GBMdynamics(100, 0.05, 0.05)"
      ]
    },
    {
      "cell_type": "code",
      "execution_count": 55,
      "metadata": {},
      "outputs": [],
      "source": [
        "analytic_engine = AnalyticEngine()\n",
        "sigma1 = analytic_engine.IV(gbm_dynamics, call1)\n",
        "sigma2 = analytic_engine.IV(gbm_dynamics, call2)\n",
        "sigma3 = analytic_engine.IV(gbm_dynamics, call3)"
      ]
    },
    {
      "cell_type": "code",
      "execution_count": 60,
      "metadata": {},
      "outputs": [],
      "source": [
        "def calibrated_impvol(sigma_lst, time_lst):\n",
        "    cal_sigma_lst = [sigma_lst[0]]\n",
        "    for i in range(1, len(sigma_lst)):\n",
        "        cal_sigma = (time_lst[i]*sigma_lst[i]**2 - time_lst[i-1]*sigma_lst[i-1]**2)/(time_lst[i]-time_lst[i-1])\n",
        "        cal_sigma_lst.append(np.sqrt(cal_sigma))\n",
        "    return cal_sigma_lst"
      ]
    },
    {
      "cell_type": "code",
      "execution_count": 63,
      "metadata": {},
      "outputs": [
        {
          "name": "stdout",
          "output_type": "stream",
          "text": [
            "[0.3973, 0.3622, 0.2209]\n"
          ]
        }
      ],
      "source": [
        "sigma_lst = [sigma1, sigma2, sigma3]\n",
        "time_lst = [0.1, 0.2, 0.5]\n",
        "cal_sigma_lst = calibrated_impvol(sigma_lst, time_lst)\n",
        "print([round(_, 4) for _ in cal_sigma_lst])"
      ]
    },
    {
      "cell_type": "markdown",
      "metadata": {},
      "source": [
        "- Thus, A time-varying local volatility function can be constructed as:\n",
        "$$\n",
        "\\sigma(t) = \\begin{cases} \n",
        "0.3973 & \\text{if } 0 \\leq t \\leq 0.1 \\\\\n",
        "0.3622 & \\text{if } 0.1 < t \\leq 0.2 \\\\\n",
        "0.2209 & \\text{if } 0.2 < t \\leq 0.5 \\\\\n",
        "\\end{cases}\n",
        "$$ "
      ]
    },
    {
      "cell_type": "markdown",
      "metadata": {},
      "source": [
        "#### (c)"
      ]
    },
    {
      "cell_type": "code",
      "execution_count": 90,
      "metadata": {},
      "outputs": [],
      "source": [
        "def calc_calibrated_impvol(time_start, time_end, cal_sigma_lst, time_lst):\n",
        "    def get_cumu_vol(time_target, cal_sigma_lst, time_lst):\n",
        "        if time_target == 0:\n",
        "            return 0\n",
        "        for i in range(len(time_lst)-1):\n",
        "            if time_lst[i] <= time_target and time_lst[i+1] > time_target:\n",
        "                break\n",
        "        cumu_vol = time_lst[0]*cal_sigma_lst[0]**2\n",
        "        for j in range(1, i+1):\n",
        "            cumu_vol += (time_lst[j]-time_lst[j-1])*cal_sigma_lst[j]**2\n",
        "        cumu_vol += (time_target-time_lst[i])*cal_sigma_lst[i+1]**2\n",
        "        return cumu_vol\n",
        "    cumu_vol_start = get_cumu_vol(time_start, cal_sigma_lst, time_lst)\n",
        "    cumu_vol_end = get_cumu_vol(time_end, cal_sigma_lst, time_lst)\n",
        "\n",
        "    sigma_cal_start = np.sqrt(1/(time_end-time_start) * (cumu_vol_end-cumu_vol_start))\n",
        "    return sigma_cal_start"
      ]
    },
    {
      "cell_type": "code",
      "execution_count": 93,
      "metadata": {},
      "outputs": [
        {
          "name": "stdout",
          "output_type": "stream",
          "text": [
            "time-0 implied vol for expiry 0.4 is 0.3109\n",
            "call price for expiry 0.4 is 8.7842\n"
          ]
        }
      ],
      "source": [
        "sigma_cal = calc_calibrated_impvol(0, 0.4, cal_sigma_lst, time_lst)\n",
        "print(f'time-0 implied vol for expiry {0.4} is {round(sigma_cal, 4)}')\n",
        "\n",
        "call4 = CallOption(100, 0.4)\n",
        "call4_price= analytic_engine.BSpriceCall(gbm_dynamics.update_sigma(sigma_cal), call4)\n",
        "print(f'call price for expiry {0.4} is {round(call4_price,4)}')"
      ]
    },
    {
      "cell_type": "markdown",
      "metadata": {},
      "source": [
        "$$ \\sigma_{t,imp} = \\sqrt{\\frac{1}{T-t}\\int_{t}^{T}\\sigma(s)^2ds} $$"
      ]
    },
    {
      "cell_type": "code",
      "execution_count": 94,
      "metadata": {},
      "outputs": [
        {
          "name": "stdout",
          "output_type": "stream",
          "text": [
            "time-0.1 implied vol for expiry 0.4 is 0.2761\n"
          ]
        }
      ],
      "source": [
        "sigma_cal_interim = calc_calibrated_impvol(0.1, 0.4, cal_sigma_lst, time_lst)\n",
        "print(f'time-0.1 implied vol for expiry {0.4} is {round(sigma_cal_interim,4)}')"
      ]
    }
  ],
  "metadata": {
    "anaconda-cloud": {},
    "colab": {
      "provenance": []
    },
    "kernelspec": {
      "display_name": "Python 3",
      "language": "python",
      "name": "python3"
    },
    "language_info": {
      "codemirror_mode": {
        "name": "ipython",
        "version": 3
      },
      "file_extension": ".py",
      "mimetype": "text/x-python",
      "name": "python",
      "nbconvert_exporter": "python",
      "pygments_lexer": "ipython3",
      "version": "3.12.0"
    },
    "toc": {
      "base_numbering": 1,
      "nav_menu": {},
      "number_sections": true,
      "sideBar": true,
      "skip_h1_title": false,
      "title_cell": "Table of Contents",
      "title_sidebar": "Contents",
      "toc_cell": false,
      "toc_position": {},
      "toc_section_display": true,
      "toc_window_display": false
    }
  },
  "nbformat": 4,
  "nbformat_minor": 0
}

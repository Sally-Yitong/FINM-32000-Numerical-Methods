{
  "cells": [
    {
      "cell_type": "markdown",
      "metadata": {},
      "source": [
        "# FINM 32000 Numerical Methods HW1"
      ]
    },
    {
      "cell_type": "code",
      "execution_count": 27,
      "metadata": {},
      "outputs": [],
      "source": [
        "import numpy as np\n",
        "from scipy.stats import norm\n",
        "from scipy.optimize import bisect, brentq\n",
        "from copy import copy"
      ]
    },
    {
      "cell_type": "markdown",
      "metadata": {},
      "source": [
        "## Part I: Contract \n",
        "\n",
        "### 1. Vanilla Option\n",
        "- arrtribute: $K$, $T$, $c$ (option price, default to be None -- unknown)"
      ]
    },
    {
      "cell_type": "code",
      "execution_count": 28,
      "metadata": {},
      "outputs": [],
      "source": [
        "class CallOption:\n",
        "\n",
        "    def __init__(self, K, T, price=None):\n",
        "        self.K = K\n",
        "        self.T = T\n",
        "        self.price = price"
      ]
    },
    {
      "cell_type": "code",
      "execution_count": 29,
      "metadata": {},
      "outputs": [],
      "source": [
        "class PutOption:\n",
        "\n",
        "    def __init__(self, K, T, price=None):\n",
        "        self.K = K\n",
        "        self.T = T\n",
        "        self.price = price"
      ]
    },
    {
      "cell_type": "markdown",
      "metadata": {},
      "source": [
        "### 2. Barrier Option\n",
        "- arrtribute: $K$, $T$, $H$, $\\mathcal{T}$ (given as observation interval, $\\Delta \\mathcal{T}$)\n",
        "\n",
        "1. An up-and-out put on S with strike K, expiry T, barrier H and ovservation times $\\mathcal{T}$ pays:\n",
        "$$ (K-S_T)^{+} \\mathbb{1}_{max_{t\\in\\mathcal{T}}S_t<H}$$"
      ]
    },
    {
      "cell_type": "code",
      "execution_count": 30,
      "metadata": {
        "id": "FH5lK0IDaJEZ"
      },
      "outputs": [],
      "source": [
        "class UpAndOutPut:\n",
        "    \n",
        "    def __init__(self, K, T, barrier, observationinterval):\n",
        "        self.K = K\n",
        "        self.T = T\n",
        "        self.barrier = barrier\n",
        "        self.observationinterval = observationinterval"
      ]
    },
    {
      "cell_type": "markdown",
      "metadata": {},
      "source": [
        "## Part II: Diffusion Dynamics"
      ]
    },
    {
      "cell_type": "markdown",
      "metadata": {},
      "source": [
        " ```GBMdynamics```\n",
        "- attribute: $S_0$, $r$, $R_{grow}$, $\\sigma$\n",
        "- method: ```update_sigma```, to change the sigma attribute, used in the later ```AnalyticEngine``` to find implied volatility"
      ]
    },
    {
      "cell_type": "code",
      "execution_count": 31,
      "metadata": {
        "id": "3QnpHnhEaJEa"
      },
      "outputs": [],
      "source": [
        "class GBMdynamics:\n",
        "\n",
        "    def __init__(self, S, r, rGrow, sigma=None):\n",
        "        self.S = S # S0\n",
        "        self.r = r # interest rate\n",
        "        self.rGrow = rGrow # R_grow\n",
        "        self.sigma = sigma # instantenous vol\n",
        "\n",
        "    def update_sigma(self, sigma):\n",
        "        self.sigma = sigma\n",
        "        return self"
      ]
    },
    {
      "cell_type": "markdown",
      "metadata": {},
      "source": [
        "## Part III: Engine\n",
        "\n",
        "### 1. ```TreeEngine```"
      ]
    },
    {
      "cell_type": "markdown",
      "metadata": {},
      "source": [
        "- #### Diffusion Dynamics\n",
        "Diffusion is: (where $W$ is $\\mathbb{P}$-$BM$)\n",
        "$$ dS_t = R_{grow} S_t dt + \\sigma S_t dW_t$$\n",
        "So $X:=logS$ has dynamics:\n",
        "$$ dX_t = \\upsilon dt + \\sigma dW_t$$ \n",
        "where $$ \\upsilon := R_{grow}-\\frac{\\sigma^2}{2} $$\n",
        "\n",
        "- #### Trinomial Tree Approximation\n",
        "$$ p_{u,d} = \\frac{1}{2} [ \\frac{\\sigma^2 \\Delta t + \\upsilon^2 (\\Delta t)^2}{(\\Delta x)^2} \\pm \\frac{\\upsilon \\Delta t}{\\Delta x}]$$\n",
        "$$ p_m = 1 - \\frac{\\sigma^2 \\Delta t + \\upsilon^2 (\\Delta t)^2}{(\\Delta x)^2}$$\n",
        "\n",
        "- #### Grid\n",
        "1.Decide $\\Delta t$:\n",
        "\n",
        "$$\\Delta t = \\frac{T}{N}$$\n",
        "thus time grid:\n",
        "$$ \\Rightarrow t_n = n \\Delta t \\quad n = 0,1,...,N$$\n",
        "\n",
        "- Choose $N$ based on what accuracy you want, note that you want to put obervation times into the nodes, i.e.:\n",
        " $$ \\frac{\\text{observation interval}}{\\Delta t} = \\frac{\\text{observation interval}\\times N}{T} = \\text{int} $$\n",
        "\n",
        "2.Decide $\\Delta x$: \n",
        "$$ logS_0 + j \\Delta x = x_j = logS_j \\quad j = -N,...,N$$\n",
        "\n",
        "thus stock price grid:\n",
        "$$ \\Rightarrow S_j = S_0 e^{j \\Delta x}$$\n",
        "- Rule of Gold Thumb: $\\Delta x = \\sigma \\sqrt{3 \\Delta t}$, we can have a rough $\\Delta x$ through this rule, however, we want to make sure that we put the barrier into the halfway of some two consecutive levels (j and j+1). Thus, we firstly calculate j using the rough $\\Delta x$, and let it be an integer. Then we use this j to calculate the final $\\Delta x$.\n",
        "$$\n",
        "\\begin{cases}\n",
        "log S_0 +(j+0.5)\\Delta x = log H \\\\\n",
        "\\Delta x = \\sigma \\sqrt{3 \\Delta t}\n",
        "\\end{cases}\n",
        "\\Rightarrow \n",
        "\\begin{cases}\n",
        "j =  \\lceil \\frac{log(H/S_0)}{\\sigma \\sqrt{3 \\Delta t}} - \\frac{1}{2} \\rceil \\\\\n",
        "\\Delta x = \\frac{log(H/S_0)}{j+\\frac{1}{2}}\n",
        "\\end{cases}\n"
      ]
    },
    {
      "cell_type": "code",
      "execution_count": 32,
      "metadata": {
        "id": "yxrJL5bIaJEa"
      },
      "outputs": [],
      "source": [
        "class TreeEngine:\n",
        "\n",
        "    def __init__(self, N):\n",
        "        self.N = N\n",
        "\n",
        "    def price_upandout(self, dynamics, contract):\n",
        "\n",
        "        deltat = contract.T / self.N\n",
        "        J = np.ceil(np.log(contract.barrier/dynamics.S)/(dynamics.sigma*np.sqrt(3*deltat))-0.5)\n",
        "        deltax = np.log(contract.barrier/dynamics.S)/(J+0.5)\n",
        "\n",
        "        Sgrid = dynamics.S*np.exp(np.linspace(self.N, -self.N, num=2*self.N+1, endpoint=True)*deltax)\n",
        "        # np.linspace(self.N, -self.N, num=2*self.N+1, endpoint=True) generate 2N+1 points from N, N-1, ... to -N\n",
        "        # Here I decided to make the SMALLER indexes in this array correspond to HIGHER S\n",
        "\n",
        "        numTimestepsPerObs = contract.observationinterval/deltat\n",
        "        if abs(numTimestepsPerObs-round(numTimestepsPerObs)) > 1e-8:\n",
        "            # if numTimestepsPerObs is not int\n",
        "            raise ValueError(\"This value of N fails to place the observation dates in the tree.\")\n",
        "\n",
        "        nu = dynamics.rGrow - 0.5 * (dynamics.sigma**2)  \n",
        "        Pu = 0.5 * (((dynamics.sigma**2) * deltat + (nu**2)*(deltat**2))/(deltax**2) + nu*deltat/deltax)     \n",
        "        Pd = 0.5 * (((dynamics.sigma**2) * deltat + (nu**2)*(deltat**2))/(deltax**2) - nu*deltat/deltax)       \n",
        "        Pm = 1 - ((dynamics.sigma**2) * deltat + (nu**2)*(deltat**2))/(deltax**2)     \n",
        "\n",
        "        # terminal case: suppose T is not in observation times\n",
        "        optionprice = np.maximum(contract.K-Sgrid,0)   # an array of time-T option prices.\n",
        "\n",
        "        # Next, induct backwards to time 0, updating the optionprice array\n",
        "        # Hint: if x is an array, then what are x[2:] and x[1:-1] and x[:-2]\n",
        "        for t in np.linspace(self.N-1, 0, num=self.N, endpoint=True)*deltat: # from (N-1)*deltat to 0\n",
        "            Sgrid = Sgrid[1:-1] # shrinking Sgrid (the most up and the most down node are deleted) (-2)\n",
        "            optionprice = np.exp(-dynamics.r*deltat)*(Pu*optionprice[:-2] + Pm*optionprice[1:-1] + Pd*optionprice[2:]) # shrinking (-2)\n",
        "            if t in np.linspace(self.N-1, 0, num=self.N, endpoint=True)*deltat*numTimestepsPerObs: # if t is an observation time\n",
        "                for j in range(0, len(Sgrid)):\n",
        "                    if Sgrid[j] >= contract.barrier:\n",
        "                        optionprice[j] = 0\n",
        "            \n",
        "        return optionprice[0]\n",
        "        # The [0] is assuming that we are shrinking the optionprice array in each iteration of the loop,\n",
        "        # until finally there is only 1 element in the array.\n",
        "        # If instead you are keeping unchanged the size of the optionprice array in each iteration,\n",
        "        # then you need to change the [0] to a different index.\n"
      ]
    },
    {
      "cell_type": "markdown",
      "metadata": {},
      "source": [
        "### 2. ```AnalyticEngine```\n",
        "\n",
        "- All methods should be provided with 2 arguments: ```dynamics```, ```contract```\n",
        "- ```BSpriceCall```: calculate the European Call price $c$ throgh BSM given $S, T, K, R_{grow}, \\sigma$\n",
        "    - BSM for European call:\n",
        "    $$ c(S_t, t) = S_tN(d_1) - Ke^{-r(T-t)}N(d_2) =  e^{-r(T-t)}[F_tN(d_1)-KN(d_2)]$$\n",
        "    $$ F_t = S_te^{r(T-t)}$$\n",
        "    $$ d_{1,2} = \\frac{log(S_t/K) + (r\\pm\\frac{1}{2}\\sigma^2)(T-t)}{\\sigma\\sqrt{T-t}} $$\n",
        "    \n",
        "- ```BSpricePut```: calculate the European Put price $p$ throgh BSM given $S, T, K, R_{grow}, \\sigma$\n",
        "    - use put-call parity:\n",
        "    $$ c(S_t, t) - p(S_t, t) = e^{-r(T-t)}(F_t - K) = S_t - Ke^{-R(T-t)}$$\n",
        "    - or BSM for European put:\n",
        "    $$ p(S_t, t) = Ke^{-r(T-t)}N(-d_2) - S_tN(-d_1) = e^{-r(T-t)}[KN(-d_2)-F_tN(d_1)]$$\n",
        "    - note that the first equation holds forever, while the second equation holds without dividend\n",
        "\n",
        "\n",
        "- ```IV```: solve the $\\sigma_{imp}$ given the Call market price $c$ and \n",
        "    - non-arbitrage condition:\n",
        "    $$ [e^{-r(T-t)}(F-K)]^+ = [S_t - Ke^{-r(T-t)}]^+ < c(S_t, t) < S_t $$\n",
        "    - try logic:\n",
        "    $$ \\sigma \\uparrow \\quad \\Rightarrow \\quad c \\uparrow$$\n",
        "    1. firstly find the lower and upper bound of $\\sigma_{imp}$ by trying an intital value 0.2 and plug it into the BSM formula (```BSpriceCall```) (note that the class ```dynamics``` has a method of ```update_sigma```), then we use 2 ```while``` cycles:\n",
        "    \n",
        "        - if the derived call price is higher than actual price, then we enter into the 1st while cycle. Since a higher derived price means that we have guessed a bigger $\\sigma_{imp}$, thus we divide it by 2 until the derived price falls below the actual price. Then we get a lower bound of $\\sigma_{imp}$ and enter into the 2nd while cycle. The 2nd while cycle then multiply this lower bound by 2 (note that 1 time is enough) and get the upper bound of $\\sigma_{imp}$ and exit the cycle.\n",
        "        \n",
        "        - if the derived call price is lower than actual price, then we directly enter into the 2nd while cycle. Since a lower price means that we have guessed a samller $\\sigma_{imp}$, thus we multiple it by 2 until the derived price falls above the actual price. Then we get the upper bound of $\\sigma_{imp}$ and exit the cycle.\n",
        "    2. After we get a rough range of $\\sigma_{imp} \\in [\\text{lo, hi}]$, we then use bisection algorithm to get an accurate $\\sigma_{imp}$\n",
        "        "
      ]
    },
    {
      "cell_type": "code",
      "execution_count": 42,
      "metadata": {},
      "outputs": [],
      "source": [
        "class AnalyticEngine:\n",
        "\n",
        "    def __init__(self):\n",
        "        pass\n",
        "\n",
        "    def BSpriceCall(self, dynamics, contract):\n",
        "        # ignores contract.price if given, because this function calculates price based on the dynamics\n",
        "\n",
        "        F = dynamics.S*np.exp(dynamics.rGrow*contract.T)\n",
        "        std = dynamics.sigma*np.sqrt(contract.T)\n",
        "        d1 = np.log(F/contract.K)/std+std/2\n",
        "        d2 = d1-std\n",
        "        call_price = np.exp(-dynamics.r*contract.T)*(F*norm.cdf(d1)-contract.K*norm.cdf(d2))\n",
        "        return call_price\n",
        "    \n",
        "    def BSpricePut(self, dynamics, contract):\n",
        "        F = dynamics.S*np.exp(dynamics.rGrow*contract.T)\n",
        "        std = dynamics.sigma*np.sqrt(contract.T)\n",
        "        d1 = np.log(F/contract.K)/std+std/2\n",
        "        d2 = d1-std\n",
        "        # call_price =  np.exp(-dynamics.r*contract.T)*(F*norm.cdf(d1)-contract.K*norm.cdf(d2))\n",
        "        # put_price = call_price - np.exp(-dynamics.r*contract.T)*(F-contract.K)\n",
        "        put_price = np.exp(-dynamics.r*contract.T)*(contract.K*norm.cdf(-d2)-F*norm.cdf(-d1))\n",
        "        return put_price\n",
        "\n",
        "    def IV(self, dynamics, contract):\n",
        "        # ignores dynamics.sigma, because this function solves for sigma.\n",
        "\n",
        "        if contract.price is None:\n",
        "            raise ValueError('Contract price must be given')\n",
        "\n",
        "        # non-arbitrage condition\n",
        "        df = np.exp(-dynamics.r*contract.T)  # discount factor\n",
        "        F = dynamics.S / df\n",
        "        lowerbound = np.max([0,(F-contract.K)*df])\n",
        "        C = contract.price\n",
        "        if C<lowerbound:\n",
        "            return np.nan\n",
        "        if C==lowerbound: # if C=upperbound=S=F*df, then implied vol is infinity\n",
        "            return 0\n",
        "        if C>=F*df:\n",
        "            return np.nan\n",
        "\n",
        "        dytry = copy(dynamics)\n",
        "        # We \"try\" values of sigma until we find sigma that generates price C\n",
        "\n",
        "        # First find lower and upper bounds\n",
        "        sigma_try = 0.2\n",
        "        while self.BSpriceCall(dytry.update_sigma(sigma_try),contract)>C:\n",
        "            sigma_try /= 2\n",
        "        while self.BSpriceCall(dytry.update_sigma(sigma_try),contract)<C:\n",
        "            sigma_try *= 2\n",
        "        hi = sigma_try\n",
        "        lo = hi/2\n",
        "        # We have calculated \"lo\" and \"hi\" which bound the implied volatility from below and above.\n",
        "        # In other words, the implied volatility is somewhere in the interval [lo,hi].\n",
        "        # Then, to calculate the implied volatility within that interval,\n",
        "        # for purposes of this homework, you may either (A) write your own bisection algorithm,\n",
        "        # or (B) use scipy.optimize.bisect or (C) use scipy.optimize.brentq\n",
        "        # You will need to provide lo and hi to those solvers.\n",
        "        # There are other solvers that do not require you to bound the solution\n",
        "        # from below and above (for instance, scipy.optimize.fsolve is a useful solver).\n",
        "        # However, if you are able to bound the solution (of a single-variable problem),\n",
        "        # then bisection or Brent will be more reliable.\n",
        "\n",
        "        price_diff = lambda sigma: self.BSpriceCall(dytry.update_sigma(sigma), contract) - C # the function that plug into the bisection algorithm\n",
        "\n",
        "        # (A) write your own bisection algorithm\n",
        "        def my_bisection_method(f, left, right, tol=1e-5, max_iter=100000):\n",
        "            if f(left) * f(right) >= 0:\n",
        "                raise ValueError(\"f(a) and f(b) must have opposite signs\")\n",
        "            \n",
        "            iter_count = 0\n",
        "            while (right - left) / 2 > tol:\n",
        "                iter_count += 1\n",
        "\n",
        "                mid = (left + right) / 2\n",
        "                if f(mid) == 0 or (right - left) / 2 < tol:\n",
        "                    # print(f\"Root found after {iter_count} iterations: {c}\")\n",
        "                    return mid\n",
        "                elif f(left) * f(mid) < 0:\n",
        "                    right = mid\n",
        "                else:\n",
        "                    left = mid\n",
        "\n",
        "                if iter_count >= max_iter:\n",
        "                    # print(f\"Maximum iterations reached. Approximate root: {c}\")\n",
        "                    return mid\n",
        "                \n",
        "            # print(f\"Root found after {iter_count} iterations: {(left + right) / 2}\")\n",
        "            return (left + right) / 2\n",
        "\n",
        "        impliedVolatility = my_bisection_method(price_diff, lo, hi)\n",
        "\n",
        "        # (B) use scipy.optimize.bisect\n",
        "        # impliedVolatility = bisect(price_diff, lo, hi)\n",
        "        \n",
        "        # (C) use scipy.optimize.brentq\n",
        "        # impliedVolatility = brentq(price_diff, lo, hi)\n",
        "        \n",
        "        return impliedVolatility\n"
      ]
    },
    {
      "cell_type": "markdown",
      "metadata": {},
      "source": [
        "##### Example:"
      ]
    },
    {
      "cell_type": "code",
      "execution_count": null,
      "metadata": {},
      "outputs": [
        {
          "data": {
            "text/plain": [
              "11.246291601828489"
            ]
          },
          "metadata": {},
          "output_type": "display_data"
        }
      ],
      "source": [
        "# Test the BSpriceCall function\n",
        "hw1analytic = AnalyticEngine()\n",
        "dynamics2 = GBMdynamics(sigma=0.4, rGrow=0, S=100, r=0)\n",
        "contract2 = CallOption(K=100, T=0.5)\n",
        "hw1analytic.BSpriceCall(dynamics2,contract2)"
      ]
    },
    {
      "cell_type": "code",
      "execution_count": null,
      "metadata": {},
      "outputs": [
        {
          "data": {
            "text/plain": [
              "0.427008056640625"
            ]
          },
          "metadata": {},
          "output_type": "display_data"
        }
      ],
      "source": [
        "# Test the IV function\n",
        "contract2.price = 12\n",
        "hw1analytic.IV(dynamics2,contract2)    # This code, EXACTLY AS WRITTEN HERE, must execute without crashing"
      ]
    },
    {
      "cell_type": "markdown",
      "metadata": {},
      "source": [
        "## Part IV: Problems and Answers"
      ]
    },
    {
      "cell_type": "markdown",
      "metadata": {},
      "source": [
        "### Problem 1 and Answers\n",
        "#### 1.(a)"
      ]
    },
    {
      "cell_type": "code",
      "execution_count": 45,
      "metadata": {},
      "outputs": [],
      "source": [
        "hw1contract = UpAndOutPut(K=95, T=0.25, barrier=114, observationinterval=0.02)\n",
        "# in this example, observation times Tau = {0.02, 0.04, ..., 0.24}\n",
        "\n",
        "hw1dynamics = GBMdynamics(S=100, sigma=0.4, rGrow=0, r=0)"
      ]
    },
    {
      "cell_type": "code",
      "execution_count": 46,
      "metadata": {
        "id": "xWliOTz8aJEb",
        "scrolled": false
      },
      "outputs": [
        {
          "name": "stdout",
          "output_type": "stream",
          "text": [
            "Up-and-out option price is 5.3087\n"
          ]
        }
      ],
      "source": [
        "hw1tree=TreeEngine(N=20000)\n",
        "\n",
        "up_and_out_price = hw1tree.price_upandout(hw1dynamics, hw1contract)\n",
        "print(f\"Up-and-out put option price is {round(up_and_out_price,4)}\")"
      ]
    },
    {
      "cell_type": "markdown",
      "metadata": {},
      "source": [
        "#### 1.(b)\n"
      ]
    },
    {
      "cell_type": "code",
      "execution_count": 49,
      "metadata": {},
      "outputs": [],
      "source": [
        "put_contract = PutOption(K=95, T=0.25)\n",
        "\n",
        "hw1dynamics = GBMdynamics(S=100, sigma=0.4, rGrow=0, r=0)"
      ]
    },
    {
      "cell_type": "code",
      "execution_count": 50,
      "metadata": {},
      "outputs": [
        {
          "name": "stdout",
          "output_type": "stream",
          "text": [
            "Up-and-in option price is 0.2109\n"
          ]
        }
      ],
      "source": [
        "hw1analytic = AnalyticEngine()\n",
        "\n",
        "put_price = hw1analytic.BSpricePut(hw1dynamics,put_contract)\n",
        "\n",
        "up_and_in_price = put_price - up_and_out_price\n",
        "print(f\"Up-and-in option put price is {round(up_and_in_price,4)}\")"
      ]
    },
    {
      "cell_type": "markdown",
      "metadata": {},
      "source": [
        "##### <span style = \"background-color: blue\"> Barrier Option: up-and-in = vanilla - up-and-out</span> "
      ]
    },
    {
      "cell_type": "markdown",
      "metadata": {},
      "source": [
        "#### 1.(c)\n",
        "\n",
        "(c1) the time-0 price of the continuously monitored barrier option is smaller than than the time-0 price of the discretely monitored option. With continuously monitoring, the option has a bigger probability of being knocked out (maximum reaching H), thus has a bigger probability ending up with payoff=0.\n",
        "\n",
        "(c2) \n",
        "- $\\alpha = \\frac{95}{114} = \\frac{5}{6}$\n",
        "- the time-0 price of the continuously monitored barrier option is $5.0315$\n",
        "\n",
        "![Problem1 (c2)](https://github.com/Sally-Yitong/FINM-32000-Numerical-Methods/blob/main/HW1/FINM%2032000%20HW1%20Problem1%20c2.jpg?raw=true)"
      ]
    },
    {
      "cell_type": "markdown",
      "metadata": {},
      "source": [
        "PS: \n",
        "- under $r=0$, given continuous up-and-out put $H=114$, $K=95$, replicate by:\n",
        "    - long 1 share of vanilla put $K_B=95$ \n",
        "    - short $\\frac{K}{H}=\\frac{95}{114}$ share of vanilla call $K_A=\\frac{H^2}{K_B}=\\frac{114^2}{195}=136.8$\n",
        "- another solution -- When the stock price S hits the barrier price, the intrinsic value of the puts in the portfolio (strike price 95) will be equal and opposite to the intrinsic value of alpha units of call options (strike price 136.8)\n",
        "\n",
        "$$\\alpha = \\frac{K_B - H}{H - K_A} = \\frac{H}{K_B}$$"
      ]
    },
    {
      "cell_type": "code",
      "execution_count": 57,
      "metadata": {},
      "outputs": [],
      "source": [
        "call_A = CallOption(K=136.8, T=0.25)\n",
        "put_B = PutOption(K=95, T=0.25)\n",
        "\n",
        "hw1dynamics = GBMdynamics(S=100, sigma=0.4, rGrow=0, r=0)"
      ]
    },
    {
      "cell_type": "code",
      "execution_count": 56,
      "metadata": {},
      "outputs": [
        {
          "name": "stdout",
          "output_type": "stream",
          "text": [
            "Continuous up-and-out put option price is 5.0315\n"
          ]
        }
      ],
      "source": [
        "hw1analytic = AnalyticEngine()\n",
        "\n",
        "call_A_price = hw1analytic.BSpriceCall(hw1dynamics,call_A)\n",
        "put_B_price = hw1analytic.BSpricePut(hw1dynamics,put_B)\n",
        "\n",
        "alpha = 95/114\n",
        "\n",
        "continuous_up_and_out_price = put_B_price - alpha*call_A_price\n",
        "print(f\"Continuous up-and-out put option price is {round(continuous_up_and_out_price,4)}\")"
      ]
    },
    {
      "cell_type": "markdown",
      "metadata": {},
      "source": [
        "##### <span style = \"background-color: blue\"> Replication of a continuosly monitoring barrier option: </span>\n",
        "\n",
        "Using a portfolio of vanilla puts and calls, key point is when the stock hit the barrier, the value of the puts and calls cancel each other \n",
        "Assumption: $\\textcolor{#FF0000}{r = 0}$ (since we don't know when will the stock hit the barrier)\n",
        "\n",
        "The continuously monitored barrier option which pays $(95-S_T)^+ \\mathbf{1}(max_{0 \\leq t \\leq T} S_t < 114)$ can be replicated by a portfolio of T-expiry options: long 1 plain vanilla put struck at 95, and short plain $\\alpha = \\frac{95}{114} = \\frac{5}{6}$ vanilla calls struck at 136.8\n",
        "\n",
        "- If S does not hit the barrier before time T, then simply collect the time-T payout of the 95 put, as desired. \n",
        "\n",
        "- If S does hit the barrier, then at the time when S is at the barrier, the 1 unit of the vanilla put has value that exactly cancels the value of the $\\alpha$ units of the plain vanilla call; so at that time, we close out the portfolio positions,for a net payment of zero, as desired."
      ]
    },
    {
      "cell_type": "markdown",
      "metadata": {},
      "source": [
        "### Problem 2 and answers\n",
        "#### 2.(a) \n",
        "Interest rate is $0$. A non-dividend-paying stock S has time-0 price $S_0 = 100$. At time 0, you\n",
        "observe the dollar prices of at-the-money ($K = 100$) European calls on S at $0.5$-year and\n",
        "$1$-year expiries to be $11.25$ and $12.00$, respectively. Find  the  time-0  Black-Scholes  implied  volatilities  of  these  two  options."
      ]
    },
    {
      "cell_type": "code",
      "execution_count": 33,
      "metadata": {
        "id": "w480Jqp6UcZm"
      },
      "outputs": [
        {
          "name": "stdout",
          "output_type": "stream",
          "text": [
            "implied vol for option1 is 0.4001 and option2 is 0.3019.\n"
          ]
        }
      ],
      "source": [
        "analytic = AnalyticEngine()\n",
        "contract1 = CallOption(K=100, T=0.5, price=11.25)\n",
        "contract2 = CallOption(K=100, T=1, price=12.00)\n",
        "dynamics = GBMdynamics(S=100, r=0, rGrow=0)\n",
        "sigma1 = analytic.IV(dynamics,contract1) \n",
        "sigma2 = analytic.IV(dynamics,contract2) \n",
        "print(f'implied vol for option1 is {round(sigma1,4)} and option2 is {round(sigma2,4)}.')"
      ]
    },
    {
      "cell_type": "markdown",
      "metadata": {},
      "source": [
        "#### 2.(b) \n",
        "Consider an at-the-money European call on S with expiry $0.75$.  Suppose that you try to price it by assuming that its implied volatility is equal to the midpoint (the arithmetic average) ofthe $0.5$-expiry and the $1.0$-expiry implied volatilities. Under that assumption, what would be the time-0 price of the $0.75$-expiry call?"
      ]
    },
    {
      "cell_type": "code",
      "execution_count": 35,
      "metadata": {},
      "outputs": [
        {
          "name": "stdout",
          "output_type": "stream",
          "text": [
            "price of option3 is 12.0814.\n"
          ]
        }
      ],
      "source": [
        "analytic = AnalyticEngine()\n",
        "sigma3 = 0.5 * (sigma1+sigma2)\n",
        "contract3 = CallOption(K=100, T=0.75)\n",
        "dynamics = GBMdynamics(sigma = sigma3, S=100, r=0, rGrow=0)\n",
        "price3 = analytic.BSpriceCall(dynamics,contract3)\n",
        "print(f'price of option3 is {round(price3,4)}.')"
      ]
    },
    {
      "cell_type": "markdown",
      "metadata": {},
      "source": [
        "#### 2.(c)\n",
        "The price computed in (b) would allow arbitrage involving the $0.75$-expiry call and one of the other contracts. Describe the steps of this arbitrage. You may assume either cash settlement or physical settlement of these options, but specify what your assumption is. \n",
        "\n",
        "Cash settlement of an in-the-money option at time T means that you receive $S_T−K$ dollars if you are long the contract,$K−S_T$ dollars if you are short the contract.  Physical settlement of an in-the-money option at time T means that you receive $1$ share of stock and $−K$ dollars if you are long the contract, or $−1$ share of stock and $+K$ dollars if you are short the contract.\n"
      ]
    },
    {
      "cell_type": "markdown",
      "metadata": {},
      "source": [
        "Answer:\n",
        "\n",
        "note that $12.0814 > 12$, which shows that $0.75$-expiry call price > $1$-expiry call price, thus conduct arbitrage: (assume <font color='red'>**physical settlement** </font>)\n",
        "- short 1 share of $0.75$-expiry call\n",
        "- long 1 share of $1$-expiry call\n",
        "\n",
        "    - at $t=0$: \n",
        "        - $V_0 = -12.0814 + 12 = -0.0814 <0$\n",
        "\n",
        "    - at $t=0.75$: (note that we don't have to care about $V_t$ when $t \\neq 0$ or $t \\neq T$)\n",
        "        - if $S_{0.75} > K$, then your counterparty execute the $0.75$-expiry call，then you receive $−1$ share of stock and $+K$ dollars\n",
        "        - if $S_{0.75} <= K$, then your counter party doesn't execute the $0.75$-expiry call and you do nothing\n",
        "\n",
        "    - at $T=1$:\n",
        "        - if $S_{0.75} > K$, then $V_1 = (S_1-K)^+ + K - S_1 \\geq 0$\n",
        "        - if $S_{0.75} <= K$, then $V_1 = (S_1-K)^+ \\geq 0$\n",
        "\n",
        "- thus $V_0 <0$ and $P(V_T \\geq 0) = 1$, this is a type-II arbitrage"
      ]
    },
    {
      "cell_type": "markdown",
      "metadata": {},
      "source": [
        "##### <span style = \"background-color: blue\"> Conclusion: </span> \n",
        "Expiry interpolation should <font color='red'>NOT</font> be done by linear interpolation of implied volatility. A better alternative would be linear interpolation of the total implied variance $\\textcolor{#FF0000}{\\sigma_{imp}^2T}$."
      ]
    }
  ],
  "metadata": {
    "anaconda-cloud": {},
    "colab": {
      "provenance": []
    },
    "kernelspec": {
      "display_name": "Python 3",
      "language": "python",
      "name": "python3"
    },
    "language_info": {
      "codemirror_mode": {
        "name": "ipython",
        "version": 3
      },
      "file_extension": ".py",
      "mimetype": "text/x-python",
      "name": "python",
      "nbconvert_exporter": "python",
      "pygments_lexer": "ipython3",
      "version": "3.12.0"
    },
    "toc": {
      "base_numbering": 1,
      "nav_menu": {},
      "number_sections": true,
      "sideBar": true,
      "skip_h1_title": false,
      "title_cell": "Table of Contents",
      "title_sidebar": "Contents",
      "toc_cell": false,
      "toc_position": {},
      "toc_section_display": true,
      "toc_window_display": false
    }
  },
  "nbformat": 4,
  "nbformat_minor": 0
}
